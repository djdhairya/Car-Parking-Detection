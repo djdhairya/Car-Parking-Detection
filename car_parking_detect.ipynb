{
 "cells": [
  {
   "cell_type": "markdown",
   "metadata": {},
   "source": [
    "# Import Library"
   ]
  },
  {
   "cell_type": "code",
   "execution_count": 2,
   "metadata": {},
   "outputs": [],
   "source": [
    "import pandas as pd\n",
    "import numpy as np\n",
    "import os\n",
    "from tensorflow.keras import applications\n",
    "from tensorflow.keras.preprocessing.image import ImageDataGenerator\n",
    "from tensorflow.keras.models import Sequential,Model\n",
    "from tensorflow.keras.layers import Dropout,Flatten,Dense,GlobalAveragePooling2D"
   ]
  },
  {
   "cell_type": "markdown",
   "metadata": {},
   "source": [
    "# Load Test and Train files"
   ]
  },
  {
   "cell_type": "code",
   "execution_count": 3,
   "metadata": {},
   "outputs": [
    {
     "name": "stdout",
     "output_type": "stream",
     "text": [
      "432 162\n"
     ]
    }
   ],
   "source": [
    "files_train = 0\n",
    "files_validation = 0\n",
    "cwd = os.getcwd()\n",
    "folder = 'train_data/train'\n",
    "\n",
    "for sub_folder in os.listdir(folder):\n",
    "    path, dirs, files = next(os.walk(os.path.join(folder, sub_folder)))\n",
    "    files_train +=len(files)\n",
    "    \n",
    "folder = 'train_data/test'\n",
    "\n",
    "for sub_folder in os.listdir(folder):\n",
    "    path, dirs, files = next(os.walk(os.path.join(folder, sub_folder)))\n",
    "    files_validation +=len(files)\n",
    "\n",
    "print(files_train, files_validation)"
   ]
  },
  {
   "cell_type": "markdown",
   "metadata": {},
   "source": [
    "# Set Parameters"
   ]
  },
  {
   "cell_type": "code",
   "execution_count": 4,
   "metadata": {},
   "outputs": [],
   "source": [
    "img_width,img_height=48,48\n",
    "\n",
    "train_data_dir='train_data/train'\n",
    "validation_data_dir=\"train_data/test\"\n",
    "\n",
    "nb_train_sample=files_train\n",
    "nb_validation_sample=files_validation\n",
    "\n",
    "batch_size=32\n",
    "epoch=30\n",
    "num_classes=2"
   ]
  },
  {
   "cell_type": "markdown",
   "metadata": {},
   "source": [
    "# Build model on top of VGG\n"
   ]
  },
  {
   "cell_type": "code",
   "execution_count": 5,
   "metadata": {},
   "outputs": [],
   "source": [
    "model = applications.VGG16(weights = 'imagenet', include_top = False, input_shape = (img_width, img_height, 3))\n"
   ]
  },
  {
   "cell_type": "code",
   "execution_count": 6,
   "metadata": {},
   "outputs": [
    {
     "data": {
      "text/plain": [
       "[<InputLayer name=input_layer, built=True>,\n",
       " <Conv2D name=block1_conv1, built=True>,\n",
       " <Conv2D name=block1_conv2, built=True>,\n",
       " <MaxPooling2D name=block1_pool, built=True>,\n",
       " <Conv2D name=block2_conv1, built=True>,\n",
       " <Conv2D name=block2_conv2, built=True>,\n",
       " <MaxPooling2D name=block2_pool, built=True>,\n",
       " <Conv2D name=block3_conv1, built=True>,\n",
       " <Conv2D name=block3_conv2, built=True>,\n",
       " <Conv2D name=block3_conv3, built=True>,\n",
       " <MaxPooling2D name=block3_pool, built=True>,\n",
       " <Conv2D name=block4_conv1, built=True>,\n",
       " <Conv2D name=block4_conv2, built=True>,\n",
       " <Conv2D name=block4_conv3, built=True>,\n",
       " <MaxPooling2D name=block4_pool, built=True>,\n",
       " <Conv2D name=block5_conv1, built=True>,\n",
       " <Conv2D name=block5_conv2, built=True>,\n",
       " <Conv2D name=block5_conv3, built=True>,\n",
       " <MaxPooling2D name=block5_pool, built=True>]"
      ]
     },
     "execution_count": 6,
     "metadata": {},
     "output_type": "execute_result"
    }
   ],
   "source": [
    "model.layers"
   ]
  },
  {
   "cell_type": "code",
   "execution_count": 7,
   "metadata": {},
   "outputs": [],
   "source": [
    "for layer in model.layers:\n",
    "    layer.trainable = False"
   ]
  },
  {
   "cell_type": "code",
   "execution_count": 8,
   "metadata": {},
   "outputs": [],
   "source": [
    "x = model.output\n",
    "x = Flatten()(x)\n",
    "\n",
    "predictions = Dense(num_classes, activation = 'softmax')(x)\n",
    "model_final = Model(inputs = model.input, outputs = predictions)\n",
    "\n",
    "model_final.compile(loss = 'categorical_crossentropy', \n",
    "                    #optimizer = optimizers.SGD(lr = 0.0001, momentum=0.9), \n",
    "                    metrics=['accuracy'])"
   ]
  },
  {
   "cell_type": "markdown",
   "metadata": {},
   "source": [
    "# Data Augumentation"
   ]
  },
  {
   "cell_type": "code",
   "execution_count": 9,
   "metadata": {},
   "outputs": [
    {
     "name": "stdout",
     "output_type": "stream",
     "text": [
      "Found 432 images belonging to 2 classes.\n",
      "Found 162 images belonging to 2 classes.\n"
     ]
    }
   ],
   "source": [
    "train_datagen = ImageDataGenerator(rescale=1.0/255, horizontal_flip=True, \n",
    "                   fill_mode='nearest',zoom_range=0.1, width_shift_range=0.1, \n",
    "                  height_shift_range=0.1, rotation_range=5)\n",
    "\n",
    "test_datagen = ImageDataGenerator(rescale=1.0/255, horizontal_flip=True, \n",
    "                   fill_mode='nearest',zoom_range=0.1, width_shift_range=0.1, \n",
    "                  height_shift_range=0.1, rotation_range=5)\n",
    "\n",
    "train_generator = train_datagen.flow_from_directory(train_data_dir, target_size=(img_height, img_width), \n",
    "                                 batch_size = batch_size, class_mode = 'categorical')\n",
    "\n",
    "validation_generator = test_datagen.flow_from_directory(validation_data_dir, target_size=(img_height, img_width), \n",
    "                                 batch_size = batch_size, class_mode = 'categorical')"
   ]
  },
  {
   "cell_type": "code",
   "execution_count": 10,
   "metadata": {},
   "outputs": [
    {
     "name": "stderr",
     "output_type": "stream",
     "text": [
      "c:\\Users\\DELL\\anaconda3\\Lib\\site-packages\\keras\\src\\trainers\\data_adapters\\py_dataset_adapter.py:121: UserWarning: Your `PyDataset` class should call `super().__init__(**kwargs)` in its constructor. `**kwargs` can include `workers`, `use_multiprocessing`, `max_queue_size`. Do not pass these arguments to `fit()`, as they will be ignored.\n",
      "  self._warn_if_super_not_called()\n"
     ]
    },
    {
     "name": "stdout",
     "output_type": "stream",
     "text": [
      "Epoch 1/30\n",
      "\u001b[1m13/13\u001b[0m \u001b[32m━━━━━━━━━━━━━━━━━━━━\u001b[0m\u001b[37m\u001b[0m \u001b[1m0s\u001b[0m 681ms/step - accuracy: 0.7887 - loss: 0.4640"
     ]
    },
    {
     "name": "stderr",
     "output_type": "stream",
     "text": [
      "c:\\Users\\DELL\\anaconda3\\Lib\\site-packages\\keras\\src\\trainers\\data_adapters\\py_dataset_adapter.py:121: UserWarning: Your `PyDataset` class should call `super().__init__(**kwargs)` in its constructor. `**kwargs` can include `workers`, `use_multiprocessing`, `max_queue_size`. Do not pass these arguments to `fit()`, as they will be ignored.\n",
      "  self._warn_if_super_not_called()\n"
     ]
    },
    {
     "name": "stdout",
     "output_type": "stream",
     "text": [
      "\u001b[1m13/13\u001b[0m \u001b[32m━━━━━━━━━━━━━━━━━━━━\u001b[0m\u001b[37m\u001b[0m \u001b[1m16s\u001b[0m 1s/step - accuracy: 0.7876 - loss: 0.4631 - val_accuracy: 0.7812 - val_loss: 0.4221\n",
      "Epoch 2/30\n",
      "\u001b[1m 1/13\u001b[0m \u001b[32m━\u001b[0m\u001b[37m━━━━━━━━━━━━━━━━━━━\u001b[0m \u001b[1m2s\u001b[0m 222ms/step - accuracy: 0.7812 - loss: 0.3722"
     ]
    },
    {
     "name": "stderr",
     "output_type": "stream",
     "text": [
      "c:\\Users\\DELL\\anaconda3\\Lib\\site-packages\\keras\\src\\trainers\\epoch_iterator.py:107: UserWarning: Your input ran out of data; interrupting training. Make sure that your dataset or generator can generate at least `steps_per_epoch * epochs` batches. You may need to use the `.repeat()` function when building your dataset.\n",
      "  self._interrupted_warning()\n"
     ]
    },
    {
     "name": "stdout",
     "output_type": "stream",
     "text": [
      "\u001b[1m13/13\u001b[0m \u001b[32m━━━━━━━━━━━━━━━━━━━━\u001b[0m\u001b[37m\u001b[0m \u001b[1m2s\u001b[0m 110ms/step - accuracy: 0.7812 - loss: 0.3722 - val_accuracy: 0.7688 - val_loss: 0.4130\n",
      "Epoch 3/30\n",
      "\u001b[1m13/13\u001b[0m \u001b[32m━━━━━━━━━━━━━━━━━━━━\u001b[0m\u001b[37m\u001b[0m \u001b[1m4s\u001b[0m 320ms/step - accuracy: 0.8026 - loss: 0.3512 - val_accuracy: 0.8375 - val_loss: 0.3413\n",
      "Epoch 4/30\n",
      "\u001b[1m13/13\u001b[0m \u001b[32m━━━━━━━━━━━━━━━━━━━━\u001b[0m\u001b[37m\u001b[0m \u001b[1m1s\u001b[0m 96ms/step - accuracy: 0.8438 - loss: 0.2987 - val_accuracy: 0.8500 - val_loss: 0.3588\n",
      "Epoch 5/30\n",
      "\u001b[1m13/13\u001b[0m \u001b[32m━━━━━━━━━━━━━━━━━━━━\u001b[0m\u001b[37m\u001b[0m \u001b[1m4s\u001b[0m 313ms/step - accuracy: 0.9078 - loss: 0.2770 - val_accuracy: 0.8687 - val_loss: 0.3124\n",
      "Epoch 6/30\n",
      "\u001b[1m13/13\u001b[0m \u001b[32m━━━━━━━━━━━━━━━━━━━━\u001b[0m\u001b[37m\u001b[0m \u001b[1m1s\u001b[0m 99ms/step - accuracy: 0.9062 - loss: 0.2724 - val_accuracy: 0.8625 - val_loss: 0.3209\n",
      "Epoch 7/30\n",
      "\u001b[1m13/13\u001b[0m \u001b[32m━━━━━━━━━━━━━━━━━━━━\u001b[0m\u001b[37m\u001b[0m \u001b[1m4s\u001b[0m 304ms/step - accuracy: 0.9309 - loss: 0.2528 - val_accuracy: 0.8875 - val_loss: 0.2879\n",
      "Epoch 8/30\n",
      "\u001b[1m13/13\u001b[0m \u001b[32m━━━━━━━━━━━━━━━━━━━━\u001b[0m\u001b[37m\u001b[0m \u001b[1m1s\u001b[0m 93ms/step - accuracy: 1.0000 - loss: 0.1739 - val_accuracy: 0.8875 - val_loss: 0.2936\n",
      "Epoch 9/30\n",
      "\u001b[1m13/13\u001b[0m \u001b[32m━━━━━━━━━━━━━━━━━━━━\u001b[0m\u001b[37m\u001b[0m \u001b[1m4s\u001b[0m 301ms/step - accuracy: 0.9445 - loss: 0.2131 - val_accuracy: 0.9125 - val_loss: 0.2639\n",
      "Epoch 10/30\n",
      "\u001b[1m13/13\u001b[0m \u001b[32m━━━━━━━━━━━━━━━━━━━━\u001b[0m\u001b[37m\u001b[0m \u001b[1m1s\u001b[0m 102ms/step - accuracy: 0.9062 - loss: 0.2520 - val_accuracy: 0.9000 - val_loss: 0.2839\n",
      "Epoch 11/30\n",
      "\u001b[1m13/13\u001b[0m \u001b[32m━━━━━━━━━━━━━━━━━━━━\u001b[0m\u001b[37m\u001b[0m \u001b[1m4s\u001b[0m 303ms/step - accuracy: 0.9688 - loss: 0.1706 - val_accuracy: 0.9062 - val_loss: 0.2651\n",
      "Epoch 12/30\n",
      "\u001b[1m13/13\u001b[0m \u001b[32m━━━━━━━━━━━━━━━━━━━━\u001b[0m\u001b[37m\u001b[0m \u001b[1m1s\u001b[0m 96ms/step - accuracy: 0.9688 - loss: 0.2022 - val_accuracy: 0.9000 - val_loss: 0.2686\n",
      "Epoch 13/30\n",
      "\u001b[1m13/13\u001b[0m \u001b[32m━━━━━━━━━━━━━━━━━━━━\u001b[0m\u001b[37m\u001b[0m \u001b[1m4s\u001b[0m 310ms/step - accuracy: 0.9451 - loss: 0.1680 - val_accuracy: 0.9000 - val_loss: 0.2803\n",
      "Epoch 14/30\n",
      "\u001b[1m13/13\u001b[0m \u001b[32m━━━━━━━━━━━━━━━━━━━━\u001b[0m\u001b[37m\u001b[0m \u001b[1m1s\u001b[0m 96ms/step - accuracy: 0.8750 - loss: 0.4644 - val_accuracy: 0.9000 - val_loss: 0.2460\n",
      "Epoch 15/30\n",
      "\u001b[1m13/13\u001b[0m \u001b[32m━━━━━━━━━━━━━━━━━━━━\u001b[0m\u001b[37m\u001b[0m \u001b[1m4s\u001b[0m 312ms/step - accuracy: 0.9633 - loss: 0.1759 - val_accuracy: 0.8938 - val_loss: 0.2774\n",
      "Epoch 16/30\n",
      "\u001b[1m13/13\u001b[0m \u001b[32m━━━━━━━━━━━━━━━━━━━━\u001b[0m\u001b[37m\u001b[0m \u001b[1m1s\u001b[0m 96ms/step - accuracy: 1.0000 - loss: 0.1226 - val_accuracy: 0.9062 - val_loss: 0.2845\n",
      "Epoch 17/30\n",
      "\u001b[1m13/13\u001b[0m \u001b[32m━━━━━━━━━━━━━━━━━━━━\u001b[0m\u001b[37m\u001b[0m \u001b[1m4s\u001b[0m 316ms/step - accuracy: 0.9639 - loss: 0.1391 - val_accuracy: 0.9000 - val_loss: 0.2354\n",
      "Epoch 18/30\n",
      "\u001b[1m13/13\u001b[0m \u001b[32m━━━━━━━━━━━━━━━━━━━━\u001b[0m\u001b[37m\u001b[0m \u001b[1m1s\u001b[0m 98ms/step - accuracy: 0.9688 - loss: 0.1333 - val_accuracy: 0.9000 - val_loss: 0.2936\n",
      "Epoch 19/30\n",
      "\u001b[1m13/13\u001b[0m \u001b[32m━━━━━━━━━━━━━━━━━━━━\u001b[0m\u001b[37m\u001b[0m \u001b[1m5s\u001b[0m 414ms/step - accuracy: 0.9486 - loss: 0.1632 - val_accuracy: 0.9187 - val_loss: 0.2626\n",
      "Epoch 20/30\n",
      "\u001b[1m13/13\u001b[0m \u001b[32m━━━━━━━━━━━━━━━━━━━━\u001b[0m\u001b[37m\u001b[0m \u001b[1m2s\u001b[0m 121ms/step - accuracy: 0.9375 - loss: 0.2047 - val_accuracy: 0.9187 - val_loss: 0.2289\n",
      "Epoch 21/30\n",
      "\u001b[1m13/13\u001b[0m \u001b[32m━━━━━━━━━━━━━━━━━━━━\u001b[0m\u001b[37m\u001b[0m \u001b[1m4s\u001b[0m 322ms/step - accuracy: 0.9702 - loss: 0.1283 - val_accuracy: 0.9312 - val_loss: 0.2245\n",
      "Epoch 22/30\n",
      "\u001b[1m13/13\u001b[0m \u001b[32m━━━━━━━━━━━━━━━━━━━━\u001b[0m\u001b[37m\u001b[0m \u001b[1m2s\u001b[0m 107ms/step - accuracy: 0.9688 - loss: 0.0954 - val_accuracy: 0.8875 - val_loss: 0.2749\n",
      "Epoch 23/30\n",
      "\u001b[1m13/13\u001b[0m \u001b[32m━━━━━━━━━━━━━━━━━━━━\u001b[0m\u001b[37m\u001b[0m \u001b[1m4s\u001b[0m 329ms/step - accuracy: 0.9568 - loss: 0.1342 - val_accuracy: 0.9000 - val_loss: 0.2472\n",
      "Epoch 24/30\n",
      "\u001b[1m13/13\u001b[0m \u001b[32m━━━━━━━━━━━━━━━━━━━━\u001b[0m\u001b[37m\u001b[0m \u001b[1m1s\u001b[0m 98ms/step - accuracy: 1.0000 - loss: 0.0644 - val_accuracy: 0.9000 - val_loss: 0.2883\n",
      "Epoch 25/30\n",
      "\u001b[1m13/13\u001b[0m \u001b[32m━━━━━━━━━━━━━━━━━━━━\u001b[0m\u001b[37m\u001b[0m \u001b[1m4s\u001b[0m 296ms/step - accuracy: 0.9645 - loss: 0.1319 - val_accuracy: 0.8875 - val_loss: 0.2576\n",
      "Epoch 26/30\n",
      "\u001b[1m13/13\u001b[0m \u001b[32m━━━━━━━━━━━━━━━━━━━━\u001b[0m\u001b[37m\u001b[0m \u001b[1m1s\u001b[0m 90ms/step - accuracy: 0.9688 - loss: 0.0958 - val_accuracy: 0.9062 - val_loss: 0.2337\n",
      "Epoch 27/30\n",
      "\u001b[1m13/13\u001b[0m \u001b[32m━━━━━━━━━━━━━━━━━━━━\u001b[0m\u001b[37m\u001b[0m \u001b[1m4s\u001b[0m 323ms/step - accuracy: 0.9753 - loss: 0.1179 - val_accuracy: 0.9312 - val_loss: 0.2294\n",
      "Epoch 28/30\n",
      "\u001b[1m13/13\u001b[0m \u001b[32m━━━━━━━━━━━━━━━━━━━━\u001b[0m\u001b[37m\u001b[0m \u001b[1m1s\u001b[0m 100ms/step - accuracy: 1.0000 - loss: 0.0578 - val_accuracy: 0.8938 - val_loss: 0.2605\n",
      "Epoch 29/30\n",
      "\u001b[1m13/13\u001b[0m \u001b[32m━━━━━━━━━━━━━━━━━━━━\u001b[0m\u001b[37m\u001b[0m \u001b[1m4s\u001b[0m 282ms/step - accuracy: 0.9775 - loss: 0.1045 - val_accuracy: 0.9250 - val_loss: 0.2323\n",
      "Epoch 30/30\n",
      "\u001b[1m13/13\u001b[0m \u001b[32m━━━━━━━━━━━━━━━━━━━━\u001b[0m\u001b[37m\u001b[0m \u001b[1m1s\u001b[0m 94ms/step - accuracy: 1.0000 - loss: 0.1141 - val_accuracy: 0.9187 - val_loss: 0.2599\n"
     ]
    }
   ],
   "source": [
    "history = model_final.fit(\n",
    "    train_generator, \n",
    "    steps_per_epoch=nb_train_sample // batch_size, \n",
    "    validation_steps=nb_validation_sample // batch_size, \n",
    "    epochs=epoch, \n",
    "    validation_data=validation_generator\n",
    ")"
   ]
  },
  {
   "cell_type": "code",
   "execution_count": 11,
   "metadata": {},
   "outputs": [
    {
     "data": {
      "text/plain": [
       "{'accuracy': [0.7724999785423279,\n",
       "  0.78125,\n",
       "  0.8125,\n",
       "  0.84375,\n",
       "  0.9024999737739563,\n",
       "  0.90625,\n",
       "  0.9275000095367432,\n",
       "  1.0,\n",
       "  0.9399999976158142,\n",
       "  0.90625,\n",
       "  0.9599999785423279,\n",
       "  0.96875,\n",
       "  0.942307710647583,\n",
       "  0.875,\n",
       "  0.9599999785423279,\n",
       "  1.0,\n",
       "  0.9574999809265137,\n",
       "  0.96875,\n",
       "  0.9549999833106995,\n",
       "  0.9375,\n",
       "  0.9599999785423279,\n",
       "  0.96875,\n",
       "  0.9624999761581421,\n",
       "  1.0,\n",
       "  0.9574999809265137,\n",
       "  0.96875,\n",
       "  0.9700000286102295,\n",
       "  1.0,\n",
       "  0.9725000262260437,\n",
       "  1.0],\n",
       " 'loss': [0.4518885016441345,\n",
       "  0.37220194935798645,\n",
       "  0.3432178497314453,\n",
       "  0.2986983060836792,\n",
       "  0.2830437421798706,\n",
       "  0.2724003493785858,\n",
       "  0.24842049181461334,\n",
       "  0.17394119501113892,\n",
       "  0.21342936158180237,\n",
       "  0.2520173192024231,\n",
       "  0.18899276852607727,\n",
       "  0.20216037333011627,\n",
       "  0.17342066764831543,\n",
       "  0.4643838405609131,\n",
       "  0.1693550944328308,\n",
       "  0.12257564067840576,\n",
       "  0.15616391599178314,\n",
       "  0.13327771425247192,\n",
       "  0.1479833424091339,\n",
       "  0.2046630084514618,\n",
       "  0.14627361297607422,\n",
       "  0.09541448205709457,\n",
       "  0.12998075783252716,\n",
       "  0.06438589096069336,\n",
       "  0.14078132808208466,\n",
       "  0.0957692563533783,\n",
       "  0.13272538781166077,\n",
       "  0.05780281871557236,\n",
       "  0.12632891535758972,\n",
       "  0.11407347023487091],\n",
       " 'val_accuracy': [0.78125,\n",
       "  0.768750011920929,\n",
       "  0.8374999761581421,\n",
       "  0.8500000238418579,\n",
       "  0.8687499761581421,\n",
       "  0.862500011920929,\n",
       "  0.887499988079071,\n",
       "  0.887499988079071,\n",
       "  0.9125000238418579,\n",
       "  0.8999999761581421,\n",
       "  0.90625,\n",
       "  0.8999999761581421,\n",
       "  0.8999999761581421,\n",
       "  0.8999999761581421,\n",
       "  0.893750011920929,\n",
       "  0.90625,\n",
       "  0.8999999761581421,\n",
       "  0.8999999761581421,\n",
       "  0.918749988079071,\n",
       "  0.918749988079071,\n",
       "  0.9312499761581421,\n",
       "  0.887499988079071,\n",
       "  0.8999999761581421,\n",
       "  0.8999999761581421,\n",
       "  0.887499988079071,\n",
       "  0.90625,\n",
       "  0.9312499761581421,\n",
       "  0.893750011920929,\n",
       "  0.925000011920929,\n",
       "  0.918749988079071],\n",
       " 'val_loss': [0.4221374988555908,\n",
       "  0.41300058364868164,\n",
       "  0.3412638306617737,\n",
       "  0.35878878831863403,\n",
       "  0.3124009966850281,\n",
       "  0.3209480941295624,\n",
       "  0.2879428267478943,\n",
       "  0.29362839460372925,\n",
       "  0.263925164937973,\n",
       "  0.2839084565639496,\n",
       "  0.2651342749595642,\n",
       "  0.2686048448085785,\n",
       "  0.2803117632865906,\n",
       "  0.24602191150188446,\n",
       "  0.2774314284324646,\n",
       "  0.2844584286212921,\n",
       "  0.23540429770946503,\n",
       "  0.2935817241668701,\n",
       "  0.26263877749443054,\n",
       "  0.22893169522285461,\n",
       "  0.22447791695594788,\n",
       "  0.27493125200271606,\n",
       "  0.24719282984733582,\n",
       "  0.2882521152496338,\n",
       "  0.2576129734516144,\n",
       "  0.2337082326412201,\n",
       "  0.22940078377723694,\n",
       "  0.2604949474334717,\n",
       "  0.23228605091571808,\n",
       "  0.25993815064430237]}"
      ]
     },
     "execution_count": 11,
     "metadata": {},
     "output_type": "execute_result"
    }
   ],
   "source": [
    "history.history"
   ]
  },
  {
   "cell_type": "code",
   "execution_count": 12,
   "metadata": {},
   "outputs": [
    {
     "data": {
      "image/png": "[encoded data removed]",
      "text/plain": [
       "<Figure size 640x480 with 1 Axes>"
      ]
     },
     "metadata": {},
     "output_type": "display_data"
    }
   ],
   "source": [
    "import matplotlib.pyplot as plt\n",
    "plt.plot(history.history['accuracy'])\n",
    "plt.plot(history.history['val_accuracy'])\n",
    "plt.title('model_accuracy')\n",
    "plt.ylabel('accuracy')\n",
    "plt.xlabel('epochs')\n",
    "plt.legend(['train', 'test'], loc = 'upper left')\n",
    "plt.show()"
   ]
  },
  {
   "cell_type": "code",
   "execution_count": 13,
   "metadata": {},
   "outputs": [
    {
     "data": {
      "image/png": "[encoded data removed]",
      "text/plain": [
       "<Figure size 640x480 with 1 Axes>"
      ]
     },
     "metadata": {},
     "output_type": "display_data"
    }
   ],
   "source": [
    "import matplotlib.pyplot as plt\n",
    "plt.plot(history.history['loss'])\n",
    "plt.plot(history.history['val_loss'])\n",
    "plt.title('model_loss')\n",
    "plt.ylabel('loss')\n",
    "plt.xlabel('epochs')\n",
    "plt.legend(['train', 'test'], loc = 'upper left')\n",
    "plt.show()"
   ]
  },
  {
   "cell_type": "code",
   "execution_count": 14,
   "metadata": {},
   "outputs": [
    {
     "name": "stderr",
     "output_type": "stream",
     "text": [
      "WARNING:absl:You are saving your model as an HDF5 file via `model.save()` or `keras.saving.save_model(model)`. This file format is considered legacy. We recommend using instead the native Keras format, e.g. `model.save('my_model.keras')` or `keras.saving.save_model(model, 'my_model.keras')`. \n"
     ]
    }
   ],
   "source": [
    "model_final.save('model/model_final.h5')"
   ]
  },
  {
   "cell_type": "code",
   "execution_count": 15,
   "metadata": {},
   "outputs": [],
   "source": [
    "class_dictionary = {}\n",
    "class_dictionary[0]  = 'no_car'\n",
    "class_dictionary[1]  = 'car'"
   ]
  },
  {
   "cell_type": "code",
   "execution_count": 16,
   "metadata": {},
   "outputs": [
    {
     "data": {
      "text/plain": [
       "{0: 'no_car', 1: 'car'}"
      ]
     },
     "execution_count": 16,
     "metadata": {},
     "output_type": "execute_result"
    }
   ],
   "source": [
    "\n",
    "class_dictionary"
   ]
  },
  {
   "cell_type": "code",
   "execution_count": 17,
   "metadata": {},
   "outputs": [],
   "source": [
    "import cv2\n",
    "import numpy as np\n",
    "\n",
    "def make_prediction(image):\n",
    "    image = cv2.imread(image)\n",
    "    image = cv2.resize(image, (48,48))\n",
    "    img = image/255\n",
    "#     (1, 48, 48, 3) -> 4D Tensor\n",
    "    img = np.expand_dims(img, axis = 0)\n",
    "    \n",
    "    class_predicted = model_final.predict(img)\n",
    "    intId = np.argmax(class_predicted[0])\n",
    "    label = class_dictionary[intId]\n",
    "    return label"
   ]
  },
  {
   "cell_type": "code",
   "execution_count": 21,
   "metadata": {},
   "outputs": [
    {
     "name": "stdout",
     "output_type": "stream",
     "text": [
      "\u001b[1m1/1\u001b[0m \u001b[32m━━━━━━━━━━━━━━━━━━━━\u001b[0m\u001b[37m\u001b[0m \u001b[1m0s\u001b[0m 105ms/step\n"
     ]
    },
    {
     "data": {
      "text/plain": [
       "'car'"
      ]
     },
     "execution_count": 21,
     "metadata": {},
     "output_type": "execute_result"
    }
   ],
   "source": [
    "make_prediction(\"C:\\\\Users\\\\DELL\\\\Desktop\\\\Car Parking Detection\\\\train_data\\\\train\\\\occupied\\\\roi_5.png\")"
   ]
  },
  {
   "cell_type": "code",
   "execution_count": 22,
   "metadata": {},
   "outputs": [
    {
     "name": "stdout",
     "output_type": "stream",
     "text": [
      "\u001b[1m1/1\u001b[0m \u001b[32m━━━━━━━━━━━━━━━━━━━━\u001b[0m\u001b[37m\u001b[0m \u001b[1m0s\u001b[0m 72ms/step\n"
     ]
    },
    {
     "data": {
      "text/plain": [
       "'no_car'"
      ]
     },
     "execution_count": 22,
     "metadata": {},
     "output_type": "execute_result"
    }
   ],
   "source": [
    "make_prediction(\"C:\\\\Users\\\\DELL\\\\Desktop\\\\Car Parking Detection\\\\train_data\\\\test\\\\empty\\\\spot1.jpg\")"
   ]
  },
  {
   "cell_type": "code",
   "execution_count": 23,
   "metadata": {},
   "outputs": [
    {
     "name": "stderr",
     "output_type": "stream",
     "text": [
      "WARNING:absl:You are saving your model as an HDF5 file via `model.save()` or `keras.saving.save_model(model)`. This file format is considered legacy. We recommend using instead the native Keras format, e.g. `model.save('my_model.keras')` or `keras.saving.save_model(model, 'my_model.keras')`. \n"
     ]
    }
   ],
   "source": [
    "model_final.save(\"model/model_final.h5\")"
   ]
  },
  {
   "cell_type": "code",
   "execution_count": null,
   "metadata": {},
   "outputs": [],
   "source": []
  }
 ],
 "metadata": {
  "kernelspec": {
   "display_name": "base",
   "language": "python",
   "name": "python3"
  },
  "language_info": {
   "codemirror_mode": {
    "name": "ipython",
    "version": 3
   },
   "file_extension": ".py",
   "mimetype": "text/x-python",
   "name": "python",
   "nbconvert_exporter": "python",
   "pygments_lexer": "ipython3",
   "version": "3.12.7"
  }
 },
 "nbformat": 4,
 "nbformat_minor": 2
}
